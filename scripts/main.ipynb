{
 "cells": [
  {
   "cell_type": "markdown",
   "metadata": {},
   "source": [
    "# UNO Card Game Simulator\n",
    "\n",
    "This is the steering console where simulations of the UNO card game can be executed. There are two different Reinforcement Learning Models implemented, which can be selected together with their respective model parameters."
   ]
  },
  {
   "cell_type": "markdown",
   "metadata": {
    "toc": true
   },
   "source": [
    "<h1>Table of Contents<span class=\"tocSkip\"></span></h1>\n",
    "<div class=\"toc\"><ul class=\"toc-item\"><li><span><a href=\"#Libraries\" data-toc-modified-id=\"Libraries-1\"><span class=\"toc-item-num\">1&nbsp;&nbsp;</span>Libraries</a></span></li><li><span><a href=\"#Parameters\" data-toc-modified-id=\"Parameters-2\"><span class=\"toc-item-num\">2&nbsp;&nbsp;</span>Parameters</a></span></li><li><span><a href=\"#Run\" data-toc-modified-id=\"Run-3\"><span class=\"toc-item-num\">3&nbsp;&nbsp;</span>Run</a></span></li><li><span><a href=\"#Analysis\" data-toc-modified-id=\"Analysis-4\"><span class=\"toc-item-num\">4&nbsp;&nbsp;</span>Analysis</a></span><ul class=\"toc-item\"><li><span><a href=\"#Win-Rate\" data-toc-modified-id=\"Win-Rate-4.1\"><span class=\"toc-item-num\">4.1&nbsp;&nbsp;</span>Win Rate</a></span></li><li><span><a href=\"#Q-Values\" data-toc-modified-id=\"Q-Values-4.2\"><span class=\"toc-item-num\">4.2&nbsp;&nbsp;</span>Q-Values</a></span></li><li><span><a href=\"#Visits\" data-toc-modified-id=\"Visits-4.3\"><span class=\"toc-item-num\">4.3&nbsp;&nbsp;</span>Visits</a></span></li><li><span><a href=\"#Possible-Moves\" data-toc-modified-id=\"Possible-Moves-4.4\"><span class=\"toc-item-num\">4.4&nbsp;&nbsp;</span>Possible Moves</a></span></li></ul></li><li><span><a href=\"#Extraction\" data-toc-modified-id=\"Extraction-5\"><span class=\"toc-item-num\">5&nbsp;&nbsp;</span>Extraction</a></span></li></ul></div>"
   ]
  },
  {
   "cell_type": "markdown",
   "metadata": {},
   "source": [
    "### Libraries\n",
    "***"
   ]
  },
  {
   "cell_type": "code",
   "execution_count": 1,
   "metadata": {},
   "outputs": [
    {
     "name": "stdout",
     "output_type": "stream",
     "text": [
      "Requirement already satisfied: pandas in /Users/siddharthamodur/developer/mambaforge/lib/python3.9/site-packages (1.3.5)\n",
      "Requirement already satisfied: pytz>=2017.3 in /Users/siddharthamodur/developer/mambaforge/lib/python3.9/site-packages (from pandas) (2021.3)\n",
      "Requirement already satisfied: python-dateutil>=2.7.3 in /Users/siddharthamodur/developer/mambaforge/lib/python3.9/site-packages (from pandas) (2.8.2)\n",
      "Requirement already satisfied: numpy>=1.17.3 in /Users/siddharthamodur/developer/mambaforge/lib/python3.9/site-packages (from pandas) (1.22.0)\n",
      "Requirement already satisfied: six>=1.5 in /Users/siddharthamodur/developer/mambaforge/lib/python3.9/site-packages (from python-dateutil>=2.7.3->pandas) (1.16.0)\n",
      "Requirement already satisfied: tqdm in /Users/siddharthamodur/developer/mambaforge/lib/python3.9/site-packages (4.62.3)\n",
      "Requirement already satisfied: matplotlib in /Users/siddharthamodur/developer/mambaforge/lib/python3.9/site-packages (3.5.1)\n",
      "Requirement already satisfied: pyparsing>=2.2.1 in /Users/siddharthamodur/developer/mambaforge/lib/python3.9/site-packages (from matplotlib) (3.0.6)\n",
      "Requirement already satisfied: packaging>=20.0 in /Users/siddharthamodur/developer/mambaforge/lib/python3.9/site-packages (from matplotlib) (21.3)\n",
      "Requirement already satisfied: numpy>=1.17 in /Users/siddharthamodur/developer/mambaforge/lib/python3.9/site-packages (from matplotlib) (1.22.0)\n",
      "Requirement already satisfied: python-dateutil>=2.7 in /Users/siddharthamodur/developer/mambaforge/lib/python3.9/site-packages (from matplotlib) (2.8.2)\n",
      "Requirement already satisfied: cycler>=0.10 in /Users/siddharthamodur/developer/mambaforge/lib/python3.9/site-packages (from matplotlib) (0.11.0)\n",
      "Requirement already satisfied: pillow>=6.2.0 in /Users/siddharthamodur/developer/mambaforge/lib/python3.9/site-packages (from matplotlib) (9.0.0)\n",
      "Requirement already satisfied: fonttools>=4.22.0 in /Users/siddharthamodur/developer/mambaforge/lib/python3.9/site-packages (from matplotlib) (4.28.5)\n",
      "Requirement already satisfied: kiwisolver>=1.0.1 in /Users/siddharthamodur/developer/mambaforge/lib/python3.9/site-packages (from matplotlib) (1.3.2)\n",
      "Requirement already satisfied: six>=1.5 in /Users/siddharthamodur/developer/mambaforge/lib/python3.9/site-packages (from python-dateutil>=2.7->matplotlib) (1.16.0)\n",
      "Requirement already satisfied: seaborn in /Users/siddharthamodur/developer/mambaforge/lib/python3.9/site-packages (0.11.2)\n",
      "Requirement already satisfied: pandas>=0.23 in /Users/siddharthamodur/developer/mambaforge/lib/python3.9/site-packages (from seaborn) (1.3.5)\n",
      "Requirement already satisfied: matplotlib>=2.2 in /Users/siddharthamodur/developer/mambaforge/lib/python3.9/site-packages (from seaborn) (3.5.1)\n",
      "Requirement already satisfied: numpy>=1.15 in /Users/siddharthamodur/developer/mambaforge/lib/python3.9/site-packages (from seaborn) (1.22.0)\n",
      "Requirement already satisfied: scipy>=1.0 in /Users/siddharthamodur/developer/mambaforge/lib/python3.9/site-packages (from seaborn) (1.7.3)\n",
      "Requirement already satisfied: pillow>=6.2.0 in /Users/siddharthamodur/developer/mambaforge/lib/python3.9/site-packages (from matplotlib>=2.2->seaborn) (9.0.0)\n",
      "Requirement already satisfied: pyparsing>=2.2.1 in /Users/siddharthamodur/developer/mambaforge/lib/python3.9/site-packages (from matplotlib>=2.2->seaborn) (3.0.6)\n",
      "Requirement already satisfied: fonttools>=4.22.0 in /Users/siddharthamodur/developer/mambaforge/lib/python3.9/site-packages (from matplotlib>=2.2->seaborn) (4.28.5)\n",
      "Requirement already satisfied: kiwisolver>=1.0.1 in /Users/siddharthamodur/developer/mambaforge/lib/python3.9/site-packages (from matplotlib>=2.2->seaborn) (1.3.2)\n",
      "Requirement already satisfied: packaging>=20.0 in /Users/siddharthamodur/developer/mambaforge/lib/python3.9/site-packages (from matplotlib>=2.2->seaborn) (21.3)\n",
      "Requirement already satisfied: cycler>=0.10 in /Users/siddharthamodur/developer/mambaforge/lib/python3.9/site-packages (from matplotlib>=2.2->seaborn) (0.11.0)\n",
      "Requirement already satisfied: python-dateutil>=2.7 in /Users/siddharthamodur/developer/mambaforge/lib/python3.9/site-packages (from matplotlib>=2.2->seaborn) (2.8.2)\n",
      "Requirement already satisfied: pytz>=2017.3 in /Users/siddharthamodur/developer/mambaforge/lib/python3.9/site-packages (from pandas>=0.23->seaborn) (2021.3)\n",
      "Requirement already satisfied: six>=1.5 in /Users/siddharthamodur/developer/mambaforge/lib/python3.9/site-packages (from python-dateutil>=2.7->matplotlib>=2.2->seaborn) (1.16.0)\n"
     ]
    }
   ],
   "source": [
    "# Ensure that all requisite public libraries are installed\n",
    "import sys\n",
    "!{sys.executable} -m pip install pandas\n",
    "!{sys.executable} -m pip install tqdm\n",
    "!{sys.executable} -m pip install matplotlib\n",
    "!{sys.executable} -m pip install seaborn"
   ]
  },
  {
   "cell_type": "code",
   "execution_count": 2,
   "metadata": {},
   "outputs": [],
   "source": [
    "# Custom libraries\n",
    "import environment as uno\n",
    "import q_learning_agent as rlagent\n",
    "import strategy_agent as sagent\n",
    "\n",
    "# Public libraries\n",
    "import pandas as pd\n",
    "import numpy as np\n",
    "import ipywidgets as widgets\n",
    "import matplotlib.pyplot as plt\n",
    "from matplotlib.pyplot import cm\n",
    "import seaborn as sns\n",
    "\n",
    "sns.set()"
   ]
  },
  {
   "cell_type": "markdown",
   "metadata": {},
   "source": [
    "### Run\n",
    "***"
   ]
  },
  {
   "cell_type": "code",
   "execution_count": 3,
   "metadata": {},
   "outputs": [],
   "source": [
    "winners, turns, coverage = list(), list(), list()"
   ]
  },
  {
   "cell_type": "code",
   "execution_count": 4,
   "metadata": {
    "scrolled": false
   },
   "outputs": [
    {
     "data": {
      "application/vnd.jupyter.widget-view+json": {
       "model_id": "34eff207644746e29bd0309f88048216",
       "version_major": 2,
       "version_minor": 0
      },
      "text/plain": [
       "  0%|          | 0/1000 [00:00<?, ?it/s]"
      ]
     },
     "metadata": {},
     "output_type": "display_data"
    },
    {
     "ename": "AttributeError",
     "evalue": "'NoneType' object has no attribute 'prev_state'",
     "output_type": "error",
     "traceback": [
      "\u001b[0;31m---------------------------------------------------------------------------\u001b[0m",
      "\u001b[0;31mAttributeError\u001b[0m                            Traceback (most recent call last)",
      "Input \u001b[0;32mIn [4]\u001b[0m, in \u001b[0;36m<module>\u001b[0;34m\u001b[0m\n\u001b[1;32m      2\u001b[0m agent_info \u001b[38;5;241m=\u001b[39m {\u001b[38;5;124m\"\u001b[39m\u001b[38;5;124mepsilon\u001b[39m\u001b[38;5;124m\"\u001b[39m  : \u001b[38;5;241m.1\u001b[39m, \n\u001b[1;32m      3\u001b[0m               \u001b[38;5;124m\"\u001b[39m\u001b[38;5;124mstep_size\u001b[39m\u001b[38;5;124m\"\u001b[39m: \u001b[38;5;241m.2\u001b[39m, \n\u001b[1;32m      4\u001b[0m               \u001b[38;5;124m\"\u001b[39m\u001b[38;5;124mmodel\u001b[39m\u001b[38;5;124m\"\u001b[39m: \u001b[38;5;28;01mNone\u001b[39;00m}\n\u001b[1;32m      7\u001b[0m \u001b[38;5;66;03m# Run simulations\u001b[39;00m\n\u001b[0;32m----> 8\u001b[0m run \u001b[38;5;241m=\u001b[39m \u001b[43muno\u001b[49m\u001b[38;5;241;43m.\u001b[39;49m\u001b[43mtournament\u001b[49m\u001b[43m(\u001b[49m\u001b[43miterations\u001b[49m\u001b[43m \u001b[49m\u001b[38;5;241;43m=\u001b[39;49m\u001b[43m \u001b[49m\u001b[38;5;241;43m1000\u001b[39;49m\u001b[43m,\u001b[49m\n\u001b[1;32m      9\u001b[0m \u001b[43m                     \u001b[49m\u001b[43magent1\u001b[49m\u001b[43m \u001b[49m\u001b[38;5;241;43m=\u001b[39;49m\u001b[43m \u001b[49m\u001b[43mrlagent\u001b[49m\u001b[38;5;241;43m.\u001b[39;49m\u001b[43mQLearningAgent\u001b[49m\u001b[43m(\u001b[49m\u001b[43magent_info\u001b[49m\u001b[43m)\u001b[49m\u001b[43m,\u001b[49m\n\u001b[1;32m     10\u001b[0m \u001b[43m                     \u001b[49m\u001b[43magent2\u001b[49m\u001b[43m \u001b[49m\u001b[38;5;241;43m=\u001b[39;49m\u001b[43m \u001b[49m\u001b[38;5;28;43;01mNone\u001b[39;49;00m\u001b[43m,\u001b[49m\u001b[43m \u001b[49m\u001b[38;5;66;43;03m#random strategy agent\u001b[39;49;00m\n\u001b[1;32m     11\u001b[0m \u001b[43m                     \u001b[49m\u001b[43mcomment\u001b[49m\u001b[43m \u001b[49m\u001b[38;5;241;43m=\u001b[39;49m\u001b[43m \u001b[49m\u001b[38;5;28;43;01mFalse\u001b[39;49;00m\u001b[43m)\u001b[49m\n\u001b[1;32m     14\u001b[0m winners\u001b[38;5;241m.\u001b[39mextend(run[\u001b[38;5;241m0\u001b[39m])\n\u001b[1;32m     15\u001b[0m turns\u001b[38;5;241m.\u001b[39mextend(run[\u001b[38;5;241m1\u001b[39m])\n",
      "File \u001b[0;32m~/Documents/Fourth Year/Fall/CSCI 364/Final Group Project/uno-genetic-rl-agent/scripts/environment.py:534\u001b[0m, in \u001b[0;36mtournament\u001b[0;34m(iterations, agent1, agent2, comment)\u001b[0m\n\u001b[1;32m    532\u001b[0m     game \u001b[38;5;241m=\u001b[39m Game(Player(agent1), Player(agent2), comment)\n\u001b[1;32m    533\u001b[0m \u001b[38;5;28;01melse\u001b[39;00m:\n\u001b[0;32m--> 534\u001b[0m     game \u001b[38;5;241m=\u001b[39m Game(\u001b[43mPlayer\u001b[49m\u001b[43m(\u001b[49m\u001b[43magent2\u001b[49m\u001b[43m)\u001b[49m, Player(agent1), comment)\n\u001b[1;32m    536\u001b[0m winners\u001b[38;5;241m.\u001b[39mappend(game\u001b[38;5;241m.\u001b[39mwinner)\n\u001b[1;32m    537\u001b[0m turns\u001b[38;5;241m.\u001b[39mappend(game\u001b[38;5;241m.\u001b[39mturn_no)\n",
      "File \u001b[0;32m~/Documents/Fourth Year/Fall/CSCI 364/Final Group Project/uno-genetic-rl-agent/scripts/environment.py:139\u001b[0m, in \u001b[0;36mPlayer.__init__\u001b[0;34m(self, agent)\u001b[0m\n\u001b[1;32m    137\u001b[0m \u001b[38;5;28mself\u001b[39m\u001b[38;5;241m.\u001b[39mactions      \u001b[38;5;241m=\u001b[39m \u001b[38;5;28mdict\u001b[39m()\n\u001b[1;32m    138\u001b[0m \u001b[38;5;28mself\u001b[39m\u001b[38;5;241m.\u001b[39maction       \u001b[38;5;241m=\u001b[39m \u001b[38;5;241m0\u001b[39m\n\u001b[0;32m--> 139\u001b[0m agent\u001b[38;5;241m.\u001b[39mprev_state  \u001b[38;5;241m=\u001b[39m \u001b[38;5;241m0\u001b[39m\n",
      "\u001b[0;31mAttributeError\u001b[0m: 'NoneType' object has no attribute 'prev_state'"
     ]
    }
   ],
   "source": [
    "# Agent parameters\n",
    "agent_info = {\"epsilon\"  : .1, \n",
    "              \"step_size\": .2, \n",
    "              \"model\": None}\n",
    "\n",
    "\n",
    "# Run simulations\n",
    "run = uno.tournament(iterations = 1000,\n",
    "                     agent1 = rlagent.QLearningAgent(agent_info),\n",
    "                     agent2 = None, #random strategy agent\n",
    "                     comment = False)\n",
    "\n",
    "\n",
    "winners.extend(run[0])\n",
    "turns.extend(run[1])\n",
    "coverage.extend(run[2])"
   ]
  },
  {
   "cell_type": "markdown",
   "metadata": {},
   "source": [
    "### Analysis\n",
    "***"
   ]
  },
  {
   "cell_type": "markdown",
   "metadata": {},
   "source": [
    "#### Win Rate"
   ]
  },
  {
   "cell_type": "code",
   "execution_count": 7,
   "metadata": {},
   "outputs": [
    {
     "data": {
      "text/plain": [
       "0.51246"
      ]
     },
     "execution_count": 7,
     "metadata": {},
     "output_type": "execute_result"
    }
   ],
   "source": [
    "winners.count(\"q-learning\")/len(winners)"
   ]
  },
  {
   "cell_type": "code",
   "execution_count": 9,
   "metadata": {},
   "outputs": [
    {
     "data": {
      "text/html": [
       "<div>\n",
       "<style scoped>\n",
       "    .dataframe tbody tr th:only-of-type {\n",
       "        vertical-align: middle;\n",
       "    }\n",
       "\n",
       "    .dataframe tbody tr th {\n",
       "        vertical-align: top;\n",
       "    }\n",
       "\n",
       "    .dataframe thead th {\n",
       "        text-align: right;\n",
       "    }\n",
       "</style>\n",
       "<table border=\"1\" class=\"dataframe\">\n",
       "  <thead>\n",
       "    <tr style=\"text-align: right;\">\n",
       "      <th></th>\n",
       "      <th>Winner</th>\n",
       "      <th>Turns</th>\n",
       "      <th>Win_rate</th>\n",
       "    </tr>\n",
       "  </thead>\n",
       "  <tbody>\n",
       "    <tr>\n",
       "      <th>99995</th>\n",
       "      <td>Magdalena</td>\n",
       "      <td>117</td>\n",
       "      <td>0.512440</td>\n",
       "    </tr>\n",
       "    <tr>\n",
       "      <th>99996</th>\n",
       "      <td>Bernhard</td>\n",
       "      <td>43</td>\n",
       "      <td>0.512445</td>\n",
       "    </tr>\n",
       "    <tr>\n",
       "      <th>99997</th>\n",
       "      <td>Bernhard</td>\n",
       "      <td>22</td>\n",
       "      <td>0.512450</td>\n",
       "    </tr>\n",
       "    <tr>\n",
       "      <th>99998</th>\n",
       "      <td>Bernhard</td>\n",
       "      <td>109</td>\n",
       "      <td>0.512455</td>\n",
       "    </tr>\n",
       "    <tr>\n",
       "      <th>99999</th>\n",
       "      <td>Bernhard</td>\n",
       "      <td>34</td>\n",
       "      <td>0.512460</td>\n",
       "    </tr>\n",
       "  </tbody>\n",
       "</table>\n",
       "</div>"
      ],
      "text/plain": [
       "          Winner  Turns  Win_rate\n",
       "99995  Magdalena    117  0.512440\n",
       "99996   Bernhard     43  0.512445\n",
       "99997   Bernhard     22  0.512450\n",
       "99998   Bernhard    109  0.512455\n",
       "99999   Bernhard     34  0.512460"
      ]
     },
     "execution_count": 9,
     "metadata": {},
     "output_type": "execute_result"
    }
   ],
   "source": [
    "result = pd.concat([pd.Series(winners), pd.Series(turns)], axis = 1)\n",
    "result = result.rename(columns={0:\"Winner\",1:\"Turns\"})\n",
    "\n",
    "result[\"Win_rate\"] = result[\"Winner\"].apply(lambda x: 1 if x == \"q-learning\" else 0)\n",
    "result[\"Win_rate\"] = result[\"Win_rate\"].cumsum()/(result.index+1)\n",
    "\n",
    "result.tail()"
   ]
  },
  {
   "cell_type": "code",
   "execution_count": 10,
   "metadata": {},
   "outputs": [
    {
     "data": {
      "text/plain": [
       "Bernhard     5106\n",
       "Magdalena    4894\n",
       "Name: Winner, dtype: int64"
      ]
     },
     "execution_count": 10,
     "metadata": {},
     "output_type": "execute_result"
    }
   ],
   "source": [
    "result[\"Winner\"][-10000:].value_counts()"
   ]
  },
  {
   "cell_type": "code",
   "execution_count": 141,
   "metadata": {
    "scrolled": true
   },
   "outputs": [
    {
     "data": {
      "image/png": "[encoded data removed]",
      "text/plain": [
       "<Figure size 1080x504 with 1 Axes>"
      ]
     },
     "metadata": {},
     "output_type": "display_data"
    }
   ],
   "source": [
    "fig = plt.figure(1, figsize=(15,7))\n",
    "\n",
    "plt.plot(result.index, result[\"Win_rate\"])\n",
    "plt.hlines(0.5, 0, len(winners), colors=\"grey\", linestyles=\"dashed\")\n",
    "\n",
    "# Formatting\n",
    "plt.title(\"Win-Rate with Starting Advantage\")\n",
    "plt.xlabel(\"Simulations\")\n",
    "plt.ylabel(\"Win Rate\")\n",
    "plt.ylim((0.45,0.55))\n",
    "\n",
    "plt.show()"
   ]
  }
 ],
 "metadata": {
  "kernelspec": {
   "display_name": "Python 3 (ipykernel)",
   "language": "python",
   "name": "python3"
  },
  "language_info": {
   "codemirror_mode": {
    "name": "ipython",
    "version": 3
   },
   "file_extension": ".py",
   "mimetype": "text/x-python",
   "name": "python",
   "nbconvert_exporter": "python",
   "pygments_lexer": "ipython3",
   "version": "3.9.7"
  },
  "toc": {
   "base_numbering": 1,
   "nav_menu": {},
   "number_sections": true,
   "sideBar": false,
   "skip_h1_title": true,
   "title_cell": "Table of Contents",
   "title_sidebar": "Contents",
   "toc_cell": true,
   "toc_position": {},
   "toc_section_display": true,
   "toc_window_display": false
  }
 },
 "nbformat": 4,
 "nbformat_minor": 4
}
