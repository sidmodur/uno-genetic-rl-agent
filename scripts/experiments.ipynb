{
 "cells": [
  {
   "cell_type": "markdown",
   "metadata": {},
   "source": [
    "# Experiments"
   ]
  },
  {
   "cell_type": "markdown",
   "metadata": {},
   "source": [
    "## Libraries/Setup\n",
    "***"
   ]
  },
  {
   "cell_type": "code",
   "execution_count": null,
   "metadata": {},
   "outputs": [],
   "source": [
    "# Ensure that all requisite public libraries are installed\n",
    "import sys\n",
    "!{sys.executable} -m pip install pandas\n",
    "!{sys.executable} -m pip install tqdm\n",
    "!{sys.executable} -m pip install matplotlib\n",
    "!{sys.executable} -m pip install seaborn"
   ]
  },
  {
   "cell_type": "code",
   "execution_count": null,
   "metadata": {},
   "outputs": [],
   "source": [
    "# Custom libraries\n",
    "import environment as uno\n",
    "import q_learning_agent as rlagent\n",
    "import strategy_agent as sagent\n",
    "\n",
    "# Public libraries\n",
    "import pandas as pd\n",
    "import numpy as np\n",
    "import ipywidgets as widgets\n",
    "import matplotlib.pyplot as plt\n",
    "from matplotlib.pyplot import cm\n",
    "import seaborn as sns\n",
    "\n",
    "sns.set()"
   ]
  },
  {
   "cell_type": "markdown",
   "metadata": {},
   "source": [
    "## Performance of Q-Learning Agents Trained Against a Random Strategy\n",
    "***"
   ]
  },
  {
   "cell_type": "markdown",
   "metadata": {},
   "source": [
    "### Performance When Played Against Random Strategy\n",
    "***"
   ]
  },
  {
   "cell_type": "code",
   "execution_count": null,
   "metadata": {
    "scrolled": false
   },
   "outputs": [],
   "source": [
    "# Agent parameters\n",
    "agent_info = {\"epsilon\"  : .1,\n",
    "              \"gamma\": .2,\n",
    "              \"alpha\": 0, #decay\n",
    "              \"model\": \"../assets/models/q_v_rand/model\",\n",
    "              \"learn\": False\n",
    "              }\n",
    "\n",
    "# Load Q-Learning agent\n",
    "q_v_rand = rlagent.QLearningAgent(agent_info)\n",
    "\n",
    "# Run simulations\n",
    "run = uno.tournament(iterations = 1000,\n",
    "                     agent1 = q_v_rand,\n",
    "                     agent2 = None, #random strategy agent\n",
    "                     comment = False)\n",
    "\n",
    "\n",
    "winners, turns = run"
   ]
  },
  {
   "cell_type": "markdown",
   "metadata": {},
   "source": [
    "#### Win Rate"
   ]
  },
  {
   "cell_type": "code",
   "execution_count": null,
   "metadata": {},
   "outputs": [],
   "source": [
    "winners.count(\"q-learning\")/len(winners)"
   ]
  },
  {
   "cell_type": "code",
   "execution_count": null,
   "metadata": {},
   "outputs": [],
   "source": [
    "result = pd.concat([pd.Series(winners), pd.Series(turns)], axis = 1)\n",
    "result = result.rename(columns={0:\"Winner\",1:\"Turns\"})\n",
    "\n",
    "result[\"Win_rate\"] = result[\"Winner\"].apply(lambda x: 1 if x == \"q-learning\" else 0)\n",
    "result[\"Win_rate\"] = result[\"Win_rate\"].cumsum()/(result.index+1)\n",
    "\n",
    "result.tail()"
   ]
  },
  {
   "cell_type": "code",
   "execution_count": null,
   "metadata": {},
   "outputs": [],
   "source": [
    "result[\"Winner\"][-10000:].value_counts()"
   ]
  },
  {
   "cell_type": "markdown",
   "metadata": {},
   "source": [
    "#### Cumulative Win-Rate per Turn"
   ]
  },
  {
   "cell_type": "code",
   "execution_count": null,
   "metadata": {
    "scrolled": true
   },
   "outputs": [],
   "source": [
    "fig = plt.figure(1, figsize=(15,7))\n",
    "\n",
    "plt.plot(result.index, result[\"Win_rate\"])\n",
    "plt.hlines(0.5, 0, len(winners), colors=\"grey\", linestyles=\"dashed\")\n",
    "\n",
    "# Formatting\n",
    "plt.title(\"Win-Rate with Starting Advantage\")\n",
    "plt.xlabel(\"Simulations\")\n",
    "plt.ylabel(\"Win Rate\")\n",
    "plt.ylim((0.45,0.55))\n",
    "\n",
    "plt.show()"
   ]
  },
  {
   "cell_type": "markdown",
   "metadata": {},
   "source": [
    "### Performance When Played Against Unoptimized Strategic Agent\n",
    "***"
   ]
  },
  {
   "cell_type": "code",
   "execution_count": null,
   "metadata": {
    "scrolled": false
   },
   "outputs": [],
   "source": [
    "# Load Strategic Agent\n",
    "strat_unopt = sagent.StrategicAgent({\"model\": \"../assets/models/strat_unopt/model\", \"parameters\": None})\n",
    "\n",
    "# Run simulations\n",
    "run = uno.tournament(iterations = 1000,\n",
    "                     agent1 = strat_unopt,\n",
    "                     agent2 = q_v_rand, \n",
    "                     comment = False)\n",
    "\n",
    "\n",
    "winners, turns = run"
   ]
  },
  {
   "cell_type": "markdown",
   "metadata": {},
   "source": [
    "#### Win Rate"
   ]
  },
  {
   "cell_type": "code",
   "execution_count": null,
   "metadata": {},
   "outputs": [],
   "source": [
    "q_winrate = winners.count(\"q-learning\")/len(winners)\n",
    "s_winrate = winners.count(\"strategic\")\n",
    "\n",
    "print(f\"q-learning win rate: {q_winrate}\")\n",
    "print(f\"strategic win rate: {s_winrate}\")"
   ]
  },
  {
   "cell_type": "code",
   "execution_count": null,
   "metadata": {},
   "outputs": [],
   "source": [
    "result = pd.concat([pd.Series(winners), pd.Series(turns)], axis = 1)\n",
    "result = result.rename(columns={0:\"Winner\",1:\"Turns\"})\n",
    "\n",
    "result[\"Win_rate\"] = result[\"Winner\"].apply(lambda x: 1 if x == \"q-learning\" else 0)\n",
    "result[\"Win_rate\"] = result[\"Win_rate\"].cumsum()/(result.index+1)\n",
    "\n",
    "result.tail()"
   ]
  },
  {
   "cell_type": "code",
   "execution_count": null,
   "metadata": {},
   "outputs": [],
   "source": [
    "result1 = pd.concat([pd.Series(winners), pd.Series(turns)], axis = 1)\n",
    "result1 = result1.rename(columns={0:\"Winner\",1:\"Turns\"})\n",
    "\n",
    "result1[\"Win_rate\"] = result1[\"Winner\"].apply(lambda x: 1 if x == \"strategic\" else 0)\n",
    "result1[\"Win_rate\"] = result1[\"Win_rate\"].cumsum()/(result1.index+1)\n",
    "\n",
    "result1.tail()"
   ]
  },
  {
   "cell_type": "code",
   "execution_count": null,
   "metadata": {},
   "outputs": [],
   "source": [
    "result[\"Winner\"][-10000:].value_counts()\n",
    "result1[\"Winner\"][-10000:].value_counts()"
   ]
  },
  {
   "cell_type": "markdown",
   "metadata": {},
   "source": [
    "#### Cumulative Win-Rate per Turn"
   ]
  },
  {
   "cell_type": "code",
   "execution_count": null,
   "metadata": {
    "scrolled": true
   },
   "outputs": [],
   "source": [
    "fig = plt.figure(1, figsize=(15,7))\n",
    "\n",
    "plt.plot(result.index, result[\"Win_rate\"])\n",
    "plt.hlines(0.5, 0, len(winners), colors=\"grey\", linestyles=\"dashed\")\n",
    "\n",
    "# Formatting\n",
    "plt.title(\"Win-Rate with Starting Advantage\")\n",
    "plt.xlabel(\"Simulations\")\n",
    "plt.ylabel(\"Win Rate\")\n",
    "plt.ylim((0.45,0.55))\n",
    "\n",
    "plt.show()"
   ]
  },
  {
   "cell_type": "code",
   "execution_count": null,
   "metadata": {
    "scrolled": true
   },
   "outputs": [],
   "source": [
    "fig = plt.figure(1, figsize=(15,7))\n",
    "\n",
    "plt.plot(result1.index, result1[\"Win_rate\"])\n",
    "plt.hlines(0.5, 0, len(winners), colors=\"grey\", linestyles=\"dashed\")\n",
    "\n",
    "# Formatting\n",
    "plt.title(\"Win-Rate with Starting Advantage\")\n",
    "plt.xlabel(\"Simulations\")\n",
    "plt.ylabel(\"Win Rate\")\n",
    "plt.ylim((0.45,0.55))\n",
    "\n",
    "plt.show()"
   ]
  },
  {
   "cell_type": "markdown",
   "metadata": {},
   "source": [
    "## Performance of Q-Learning Agents Trained Against an Unoptimized Strategy Agent\n",
    "***"
   ]
  },
  {
   "cell_type": "markdown",
   "metadata": {},
   "source": [
    "### Performance When Played Against Random Strategy\n",
    "***"
   ]
  },
  {
   "cell_type": "code",
   "execution_count": null,
   "metadata": {
    "scrolled": false
   },
   "outputs": [],
   "source": [
    "# Agent parameters\n",
    "agent_info = {\"epsilon\"  : .1,\n",
    "              \"gamma\": .2,\n",
    "              \"alpha\": 0, #decay\n",
    "              \"model\": \"../assets/models/q_v_strat/model\",\n",
    "              \"learn\": False\n",
    "              }\n",
    "\n",
    "# Load Q-Learning agent\n",
    "q_v_strat = rlagent.QLearningAgent(agent_info)\n",
    "\n",
    "# Run simulations\n",
    "run = uno.tournament(iterations = 1000,\n",
    "                     agent1 = q_v_strat,\n",
    "                     agent2 = None, #random strategy agent\n",
    "                     comment = False)\n",
    "\n",
    "\n",
    "winners, turns = run"
   ]
  },
  {
   "cell_type": "markdown",
   "metadata": {},
   "source": [
    "#### Win Rate"
   ]
  },
  {
   "cell_type": "code",
   "execution_count": null,
   "metadata": {},
   "outputs": [],
   "source": [
    "winners.count(\"q-learning\")/len(winners)"
   ]
  },
  {
   "cell_type": "code",
   "execution_count": null,
   "metadata": {},
   "outputs": [],
   "source": [
    "result = pd.concat([pd.Series(winners), pd.Series(turns)], axis = 1)\n",
    "result = result.rename(columns={0:\"Winner\",1:\"Turns\"})\n",
    "\n",
    "result[\"Win_rate\"] = result[\"Winner\"].apply(lambda x: 1 if x == \"q-learning\" else 0)\n",
    "result[\"Win_rate\"] = result[\"Win_rate\"].cumsum()/(result.index+1)\n",
    "\n",
    "result.tail()"
   ]
  },
  {
   "cell_type": "code",
   "execution_count": null,
   "metadata": {},
   "outputs": [],
   "source": [
    "result[\"Winner\"][-10000:].value_counts()"
   ]
  },
  {
   "cell_type": "markdown",
   "metadata": {},
   "source": [
    "#### Cumulative Win-Rate per Turn"
   ]
  },
  {
   "cell_type": "code",
   "execution_count": null,
   "metadata": {
    "scrolled": true
   },
   "outputs": [],
   "source": [
    "fig = plt.figure(1, figsize=(15,7))\n",
    "\n",
    "plt.plot(result.index, result[\"Win_rate\"])\n",
    "plt.hlines(0.5, 0, len(winners), colors=\"grey\", linestyles=\"dashed\")\n",
    "\n",
    "# Formatting\n",
    "plt.title(\"Win-Rate with Starting Advantage\")\n",
    "plt.xlabel(\"Simulations\")\n",
    "plt.ylabel(\"Win Rate\")\n",
    "plt.ylim((0.45,0.55))\n",
    "\n",
    "plt.show()"
   ]
  },
  {
   "cell_type": "markdown",
   "metadata": {},
   "source": [
    "### Performance When Played Against Unoptimized Strategic Agent\n",
    "***"
   ]
  },
  {
   "cell_type": "code",
   "execution_count": null,
   "metadata": {
    "scrolled": false
   },
   "outputs": [],
   "source": [
    "# Run simulations\n",
    "run = uno.tournament(iterations = 1000,\n",
    "                     agent1 = strat_unopt,\n",
    "                     agent2 = q_v_strat, \n",
    "                     comment = False)\n",
    "\n",
    "winners, turns = run"
   ]
  },
  {
   "cell_type": "markdown",
   "metadata": {},
   "source": [
    "#### Win Rate"
   ]
  },
  {
   "cell_type": "code",
   "execution_count": null,
   "metadata": {},
   "outputs": [],
   "source": [
    "q_winrate = winners.count(\"q-learning\")/len(winners)\n",
    "s_winrate = winners.count(\"strategic\")\n",
    "\n",
    "print(f\"q-learning win rate: {q_winrate}\")\n",
    "print(f\"strategic win rate: {s_winrate}\")"
   ]
  },
  {
   "cell_type": "code",
   "execution_count": null,
   "metadata": {},
   "outputs": [],
   "source": [
    "result = pd.concat([pd.Series(winners), pd.Series(turns)], axis = 1)\n",
    "result = result.rename(columns={0:\"Winner\",1:\"Turns\"})\n",
    "\n",
    "result[\"Win_rate\"] = result[\"Winner\"].apply(lambda x: 1 if x == \"q-learning\" else 0)\n",
    "result[\"Win_rate\"] = result[\"Win_rate\"].cumsum()/(result.index+1)\n",
    "\n",
    "result.tail()"
   ]
  },
  {
   "cell_type": "code",
   "execution_count": null,
   "metadata": {},
   "outputs": [],
   "source": [
    "result1 = pd.concat([pd.Series(winners), pd.Series(turns)], axis = 1)\n",
    "result1 = result1.rename(columns={0:\"Winner\",1:\"Turns\"})\n",
    "\n",
    "result1[\"Win_rate\"] = result1[\"Winner\"].apply(lambda x: 1 if x == \"strategic\" else 0)\n",
    "result1[\"Win_rate\"] = result1[\"Win_rate\"].cumsum()/(result1.index+1)\n",
    "\n",
    "result1.tail()"
   ]
  },
  {
   "cell_type": "code",
   "execution_count": null,
   "metadata": {},
   "outputs": [],
   "source": [
    "result[\"Winner\"][-10000:].value_counts()\n",
    "result1[\"Winner\"][-10000:].value_counts()"
   ]
  },
  {
   "cell_type": "markdown",
   "metadata": {},
   "source": [
    "#### Cumulative Win-Rate per Turn"
   ]
  },
  {
   "cell_type": "code",
   "execution_count": null,
   "metadata": {
    "scrolled": true
   },
   "outputs": [],
   "source": [
    "fig = plt.figure(1, figsize=(15,7))\n",
    "\n",
    "plt.plot(result.index, result[\"Win_rate\"])\n",
    "plt.hlines(0.5, 0, len(winners), colors=\"grey\", linestyles=\"dashed\")\n",
    "\n",
    "# Formatting\n",
    "plt.title(\"Win-Rate with Starting Advantage\")\n",
    "plt.xlabel(\"Simulations\")\n",
    "plt.ylabel(\"Win Rate\")\n",
    "plt.ylim((0.45,0.55))\n",
    "\n",
    "plt.show()"
   ]
  },
  {
   "cell_type": "code",
   "execution_count": null,
   "metadata": {
    "scrolled": true
   },
   "outputs": [],
   "source": [
    "fig = plt.figure(1, figsize=(15,7))\n",
    "\n",
    "plt.plot(result1.index, result1[\"Win_rate\"])\n",
    "plt.hlines(0.5, 0, len(winners), colors=\"grey\", linestyles=\"dashed\")\n",
    "\n",
    "# Formatting\n",
    "plt.title(\"Win-Rate with Starting Advantage\")\n",
    "plt.xlabel(\"Simulations\")\n",
    "plt.ylabel(\"Win Rate\")\n",
    "plt.ylim((0.45,0.55))\n",
    "\n",
    "plt.show()"
   ]
  },
  {
   "cell_type": "markdown",
   "metadata": {},
   "source": [
    "### Performance When Played Against a Q-Learning Agent Trained Against a Random Strategy\n",
    "***"
   ]
  },
  {
   "cell_type": "code",
   "execution_count": null,
   "metadata": {
    "scrolled": false
   },
   "outputs": [],
   "source": [
    "q_v_rand.name = \"q_v_rand\"\n",
    "q_v_strat.name = \"q_v_strat\"\n",
    "\n",
    "# Run simulations\n",
    "run = uno.tournament(iterations = 1000,\n",
    "                     agent1 = q_v_rand,\n",
    "                     agent2 = q_v_strat, \n",
    "                     comment = False)\n",
    "\n",
    "winners = run[0]"
   ]
  },
  {
   "cell_type": "markdown",
   "metadata": {},
   "source": [
    "#### Win Rate"
   ]
  },
  {
   "cell_type": "code",
   "execution_count": null,
   "metadata": {},
   "outputs": [],
   "source": [
    "q_winrate = winners.count(\"q_v_rand\")/len(winners)\n",
    "s_winrate = winners.count(\"q_v_strat\")\n",
    "\n",
    "print(f\"q-learning win rate: {q_winrate}\")\n",
    "print(f\"strategic win rate: {s_winrate}\")"
   ]
  },
  {
   "cell_type": "code",
   "execution_count": null,
   "metadata": {},
   "outputs": [],
   "source": [
    "result = pd.concat([pd.Series(winners), pd.Series(turns)], axis = 1)\n",
    "result = result.rename(columns={0:\"Winner\",1:\"Turns\"})\n",
    "\n",
    "result[\"Win_rate\"] = result[\"Winner\"].apply(lambda x: 1 if x == \"q_v_rand\" else 0)\n",
    "result[\"Win_rate\"] = result[\"Win_rate\"].cumsum()/(result.index+1)\n",
    "\n",
    "result.tail()"
   ]
  },
  {
   "cell_type": "code",
   "execution_count": null,
   "metadata": {},
   "outputs": [],
   "source": [
    "result1 = pd.concat([pd.Series(winners), pd.Series(turns)], axis = 1)\n",
    "result1 = result1.rename(columns={0:\"Winner\",1:\"Turns\"})\n",
    "\n",
    "result1[\"Win_rate\"] = result1[\"Winner\"].apply(lambda x: 1 if x == \"q_v_strat\" else 0)\n",
    "result1[\"Win_rate\"] = result1[\"Win_rate\"].cumsum()/(result1.index+1)\n",
    "\n",
    "result1.tail()"
   ]
  },
  {
   "cell_type": "code",
   "execution_count": null,
   "metadata": {},
   "outputs": [],
   "source": [
    "result[\"Winner\"][-10000:].value_counts()\n",
    "result1[\"Winner\"][-10000:].value_counts()"
   ]
  },
  {
   "cell_type": "markdown",
   "metadata": {},
   "source": [
    "#### Cumulative Win-Rate per Turn"
   ]
  },
  {
   "cell_type": "code",
   "execution_count": null,
   "metadata": {
    "scrolled": true
   },
   "outputs": [],
   "source": [
    "fig = plt.figure(1, figsize=(15,7))\n",
    "\n",
    "plt.plot(result.index, result[\"Win_rate\"])\n",
    "plt.hlines(0.5, 0, len(winners), colors=\"grey\", linestyles=\"dashed\")\n",
    "\n",
    "# Formatting\n",
    "plt.title(\"Win-Rate with Starting Advantage\")\n",
    "plt.xlabel(\"Simulations\")\n",
    "plt.ylabel(\"Win Rate\")\n",
    "plt.ylim((0.45,0.55))\n",
    "\n",
    "plt.show()"
   ]
  },
  {
   "cell_type": "code",
   "execution_count": null,
   "metadata": {
    "scrolled": true
   },
   "outputs": [],
   "source": [
    "fig = plt.figure(1, figsize=(15,7))\n",
    "\n",
    "plt.plot(result1.index, result1[\"Win_rate\"])\n",
    "plt.hlines(0.5, 0, len(winners), colors=\"grey\", linestyles=\"dashed\")\n",
    "\n",
    "# Formatting\n",
    "plt.title(\"Win-Rate with Starting Advantage\")\n",
    "plt.xlabel(\"Simulations\")\n",
    "plt.ylabel(\"Win Rate\")\n",
    "plt.ylim((0.45,0.55))\n",
    "\n",
    "plt.show()"
   ]
  },
  {
   "cell_type": "markdown",
   "metadata": {},
   "source": [
    "## Performance of an Unoptimized Strategy Agent Against a Random Strategy\n",
    "***"
   ]
  },
  {
   "cell_type": "code",
   "execution_count": null,
   "metadata": {
    "scrolled": false
   },
   "outputs": [],
   "source": [
    "# Run simulations\n",
    "run = uno.tournament(iterations = 1000,\n",
    "                     agent1 = strat_unopt,\n",
    "                     agent2 = None, #random strategy agent\n",
    "                     comment = False)\n",
    "\n",
    "\n",
    "winners = run[0]"
   ]
  },
  {
   "cell_type": "markdown",
   "metadata": {},
   "source": [
    "#### Win Rate"
   ]
  },
  {
   "cell_type": "code",
   "execution_count": null,
   "metadata": {},
   "outputs": [],
   "source": [
    "winners.count(\"strategic\")/len(winners)"
   ]
  },
  {
   "cell_type": "code",
   "execution_count": null,
   "metadata": {},
   "outputs": [],
   "source": [
    "result = pd.concat([pd.Series(winners), pd.Series(turns)], axis = 1)\n",
    "result = result.rename(columns={0:\"Winner\",1:\"Turns\"})\n",
    "\n",
    "result[\"Win_rate\"] = result[\"Winner\"].apply(lambda x: 1 if x == \"strategic\" else 0)\n",
    "result[\"Win_rate\"] = result[\"Win_rate\"].cumsum()/(result.index+1)\n",
    "\n",
    "result.tail()"
   ]
  },
  {
   "cell_type": "code",
   "execution_count": null,
   "metadata": {},
   "outputs": [],
   "source": [
    "result[\"Winner\"][-10000:].value_counts()"
   ]
  },
  {
   "cell_type": "markdown",
   "metadata": {},
   "source": [
    "#### Cumulative Win-Rate per Turn"
   ]
  },
  {
   "cell_type": "code",
   "execution_count": null,
   "metadata": {
    "scrolled": true
   },
   "outputs": [],
   "source": [
    "fig = plt.figure(1, figsize=(15,7))\n",
    "\n",
    "plt.plot(result.index, result[\"Win_rate\"])\n",
    "plt.hlines(0.5, 0, len(winners), colors=\"grey\", linestyles=\"dashed\")\n",
    "\n",
    "# Formatting\n",
    "plt.title(\"Win-Rate with Starting Advantage\")\n",
    "plt.xlabel(\"Simulations\")\n",
    "plt.ylabel(\"Win Rate\")\n",
    "plt.ylim((0.45,0.55))\n",
    "\n",
    "plt.show()"
   ]
  },
  {
   "cell_type": "code",
   "execution_count": null,
   "metadata": {
    "scrolled": false
   },
   "outputs": [],
   "source": [
    "# Run simulations\n",
    "run = uno.tournament(iterations = 1000,\n",
    "                     agent1 = strat_unopt,\n",
    "                     agent2 = q_v_strat, \n",
    "                     comment = False)\n",
    "\n",
    "winners = run[0]"
   ]
  },
  {
   "cell_type": "markdown",
   "metadata": {},
   "source": [
    "#### Win Rate"
   ]
  },
  {
   "cell_type": "code",
   "execution_count": null,
   "metadata": {},
   "outputs": [],
   "source": [
    "q_winrate = winners.count(\"q_v_strat\")/len(winners)\n",
    "s_winrate = winners.count(\"strategic\")\n",
    "\n",
    "print(f\"q-learning win rate: {q_winrate}\")\n",
    "print(f\"strategic win rate: {s_winrate}\")"
   ]
  },
  {
   "cell_type": "code",
   "execution_count": null,
   "metadata": {},
   "outputs": [],
   "source": [
    "result = pd.concat([pd.Series(winners), pd.Series(turns)], axis = 1)\n",
    "result = result.rename(columns={0:\"Winner\",1:\"Turns\"})\n",
    "\n",
    "result[\"Win_rate\"] = result[\"Winner\"].apply(lambda x: 1 if x == \"q_v_strat\" else 0)\n",
    "result[\"Win_rate\"] = result[\"Win_rate\"].cumsum()/(result.index+1)\n",
    "\n",
    "result.tail()"
   ]
  },
  {
   "cell_type": "code",
   "execution_count": null,
   "metadata": {},
   "outputs": [],
   "source": [
    "result[\"Winner\"][-10000:].value_counts()"
   ]
  },
  {
   "cell_type": "markdown",
   "metadata": {},
   "source": [
    "#### Cumulative Win-Rate per Turn"
   ]
  },
  {
   "cell_type": "code",
   "execution_count": null,
   "metadata": {
    "scrolled": true
   },
   "outputs": [],
   "source": [
    "fig = plt.figure(1, figsize=(15,7))\n",
    "\n",
    "plt.plot(result.index, result[\"Win_rate\"])\n",
    "plt.hlines(0.5, 0, len(winners), colors=\"grey\", linestyles=\"dashed\")\n",
    "\n",
    "# Formatting\n",
    "plt.title(\"Win-Rate with Starting Advantage\")\n",
    "plt.xlabel(\"Simulations\")\n",
    "plt.ylabel(\"Win Rate\")\n",
    "plt.ylim((0.45,0.55))\n",
    "\n",
    "plt.show()"
   ]
  },
  {
   "cell_type": "code",
   "execution_count": null,
   "metadata": {
    "scrolled": false
   },
   "outputs": [],
   "source": [
    "q_v_rand.name = \"q_v_rand\"\n",
    "q_v_strat.name = \"q_v_strat\"\n",
    "\n",
    "# Run simulations\n",
    "run = uno.tournament(iterations = 1000,\n",
    "                     agent1 = q_v_rand,\n",
    "                     agent2 = q_v_strat, \n",
    "                     comment = False)\n",
    "\n",
    "winners = run[0]"
   ]
  },
  {
   "cell_type": "markdown",
   "metadata": {},
   "source": [
    "#### Win Rate"
   ]
  },
  {
   "cell_type": "code",
   "execution_count": null,
   "metadata": {},
   "outputs": [],
   "source": [
    "winners.count(\"q_v_strat\")/len(winners)"
   ]
  },
  {
   "cell_type": "code",
   "execution_count": null,
   "metadata": {},
   "outputs": [],
   "source": [
    "result = pd.concat([pd.Series(winners), pd.Series(turns)], axis = 1)\n",
    "result = result.rename(columns={0:\"Winner\",1:\"Turns\"})\n",
    "\n",
    "result[\"Win_rate\"] = result[\"Winner\"].apply(lambda x: 1 if x == \"q_v_strat\" else 0)\n",
    "result[\"Win_rate\"] = result[\"Win_rate\"].cumsum()/(result.index+1)\n",
    "\n",
    "result.tail()"
   ]
  },
  {
   "cell_type": "code",
   "execution_count": null,
   "metadata": {},
   "outputs": [],
   "source": [
    "result[\"Winner\"][-10000:].value_counts()"
   ]
  },
  {
   "cell_type": "markdown",
   "metadata": {},
   "source": [
    "#### Cumulative Win-Rate per Turn"
   ]
  },
  {
   "cell_type": "code",
   "execution_count": null,
   "metadata": {
    "scrolled": true
   },
   "outputs": [],
   "source": [
    "fig = plt.figure(1, figsize=(15,7))\n",
    "\n",
    "plt.plot(result.index, result[\"Win_rate\"])\n",
    "plt.hlines(0.5, 0, len(winners), colors=\"grey\", linestyles=\"dashed\")\n",
    "\n",
    "# Formatting\n",
    "plt.title(\"Win-Rate with Starting Advantage\")\n",
    "plt.xlabel(\"Simulations\")\n",
    "plt.ylabel(\"Win Rate\")\n",
    "plt.ylim((0.45,0.55))\n",
    "\n",
    "plt.show()"
   ]
  },
  {
   "cell_type": "markdown",
   "metadata": {},
   "source": [
    "## Performance of the Optimized Strategy Agent Trained Against a Random Strategy\n",
    "***"
   ]
  },
  {
   "cell_type": "markdown",
   "metadata": {},
   "source": [
    "### Performance When Played Against Random Strategy\n",
    "***"
   ]
  },
  {
   "cell_type": "code",
   "execution_count": null,
   "metadata": {
    "scrolled": false
   },
   "outputs": [],
   "source": [
    "# Load optimized strategic agent\n",
    "agent_info = {\n",
    "    \"model\": \"../assets/models/strat_opt_rand/model\",\n",
    "    \"parameters\": None\n",
    "}\n",
    "\n",
    "strat_opt_rand = sagent.StrategicAgent(agent_info)\n",
    "\n",
    "# Run simulations\n",
    "run = uno.tournament(iterations = 1000,\n",
    "                     agent1 = strat_opt_rand,\n",
    "                     agent2 = None, #random strategy agent\n",
    "                     comment = False)\n",
    "\n",
    "\n",
    "winners, turns = run"
   ]
  },
  {
   "cell_type": "markdown",
   "metadata": {},
   "source": [
    "#### Win Rate"
   ]
  },
  {
   "cell_type": "code",
   "execution_count": null,
   "metadata": {},
   "outputs": [],
   "source": [
    "winners.count(\"strategic\")/len(winners)"
   ]
  },
  {
   "cell_type": "code",
   "execution_count": null,
   "metadata": {},
   "outputs": [],
   "source": [
    "result = pd.concat([pd.Series(winners), pd.Series(turns)], axis = 1)\n",
    "result = result.rename(columns={0:\"Winner\",1:\"Turns\"})\n",
    "\n",
    "result[\"Win_rate\"] = result[\"Winner\"].apply(lambda x: 1 if x == \"q-learning\" else 0)\n",
    "result[\"Win_rate\"] = result[\"Win_rate\"].cumsum()/(result.index+1)\n",
    "\n",
    "result.tail()"
   ]
  },
  {
   "cell_type": "code",
   "execution_count": null,
   "metadata": {},
   "outputs": [],
   "source": [
    "result[\"Winner\"][-10000:].value_counts()"
   ]
  },
  {
   "cell_type": "markdown",
   "metadata": {},
   "source": [
    "#### Cumulative Win-Rate per Turn"
   ]
  },
  {
   "cell_type": "code",
   "execution_count": null,
   "metadata": {
    "scrolled": true
   },
   "outputs": [],
   "source": [
    "fig = plt.figure(1, figsize=(15,7))\n",
    "\n",
    "plt.plot(result.index, result[\"Win_rate\"])\n",
    "plt.hlines(0.5, 0, len(winners), colors=\"grey\", linestyles=\"dashed\")\n",
    "\n",
    "# Formatting\n",
    "plt.title(\"Win-Rate with Starting Advantage\")\n",
    "plt.xlabel(\"Simulations\")\n",
    "plt.ylabel(\"Win Rate\")\n",
    "plt.ylim((0.45,0.55))\n",
    "\n",
    "plt.show()"
   ]
  },
  {
   "cell_type": "markdown",
   "metadata": {},
   "source": [
    "### Performance When Played Against Unoptimized Strategic Agent\n",
    "***"
   ]
  },
  {
   "cell_type": "code",
   "execution_count": null,
   "metadata": {
    "scrolled": false
   },
   "outputs": [],
   "source": [
    "strat_opt_rand.name = \"strategic-opt\"\n",
    "\n",
    "# Run simulations\n",
    "run = uno.tournament(iterations = 1000,\n",
    "                     agent1 = strat_unopt,\n",
    "                     agent2 = strat_opt_rand, \n",
    "                     comment = False)\n",
    "\n",
    "winners, turns = run"
   ]
  },
  {
   "cell_type": "markdown",
   "metadata": {},
   "source": [
    "#### Win Rate"
   ]
  },
  {
   "cell_type": "code",
   "execution_count": null,
   "metadata": {},
   "outputs": [],
   "source": [
    "q_winrate = winners.count(\"strategic\")/len(winners)\n",
    "s_winrate = winners.count(\"strategic-opt\")\n",
    "\n",
    "print(f\"strategic win rate: {q_winrate}\")\n",
    "print(f\"strategic-opt win rate: {s_winrate}\")"
   ]
  },
  {
   "cell_type": "code",
   "execution_count": null,
   "metadata": {},
   "outputs": [],
   "source": [
    "result = pd.concat([pd.Series(winners), pd.Series(turns)], axis = 1)\n",
    "result = result.rename(columns={0:\"Winner\",1:\"Turns\"})\n",
    "\n",
    "result[\"Win_rate\"] = result[\"Winner\"].apply(lambda x: 1 if x == \"strategic\" else 0)\n",
    "result[\"Win_rate\"] = result[\"Win_rate\"].cumsum()/(result.index+1)\n",
    "\n",
    "result.tail()"
   ]
  },
  {
   "cell_type": "code",
   "execution_count": null,
   "metadata": {},
   "outputs": [],
   "source": [
    "result1 = pd.concat([pd.Series(winners), pd.Series(turns)], axis = 1)\n",
    "result1 = result1.rename(columns={0:\"Winner\",1:\"Turns\"})\n",
    "\n",
    "result1[\"Win_rate\"] = result1[\"Winner\"].apply(lambda x: 1 if x == \"strategic-opt\" else 0)\n",
    "result1[\"Win_rate\"] = result1[\"Win_rate\"].cumsum()/(result1.index+1)\n",
    "\n",
    "result1.tail()"
   ]
  },
  {
   "cell_type": "code",
   "execution_count": null,
   "metadata": {},
   "outputs": [],
   "source": [
    "result[\"Winner\"][-10000:].value_counts()\n",
    "result1[\"Winner\"][-10000:].value_counts()"
   ]
  },
  {
   "cell_type": "markdown",
   "metadata": {},
   "source": [
    "#### Cumulative Win-Rate per Turn"
   ]
  },
  {
   "cell_type": "code",
   "execution_count": null,
   "metadata": {
    "scrolled": true
   },
   "outputs": [],
   "source": [
    "fig = plt.figure(1, figsize=(15,7))\n",
    "\n",
    "plt.plot(result.index, result[\"Win_rate\"])\n",
    "plt.hlines(0.5, 0, len(winners), colors=\"grey\", linestyles=\"dashed\")\n",
    "\n",
    "# Formatting\n",
    "plt.title(\"Win-Rate with Starting Advantage\")\n",
    "plt.xlabel(\"Simulations\")\n",
    "plt.ylabel(\"Win Rate\")\n",
    "plt.ylim((0.45,0.55))\n",
    "\n",
    "plt.show()"
   ]
  },
  {
   "cell_type": "code",
   "execution_count": null,
   "metadata": {
    "scrolled": true
   },
   "outputs": [],
   "source": [
    "fig = plt.figure(1, figsize=(15,7))\n",
    "\n",
    "plt.plot(result1.index, result1[\"Win_rate\"])\n",
    "plt.hlines(0.5, 0, len(winners), colors=\"grey\", linestyles=\"dashed\")\n",
    "\n",
    "# Formatting\n",
    "plt.title(\"Win-Rate with Starting Advantage\")\n",
    "plt.xlabel(\"Simulations\")\n",
    "plt.ylabel(\"Win Rate\")\n",
    "plt.ylim((0.45,0.55))\n",
    "\n",
    "plt.show()"
   ]
  },
  {
   "cell_type": "markdown",
   "metadata": {},
   "source": [
    "### Performance When Played Against a Q-Learning Agent\n",
    "***"
   ]
  },
  {
   "cell_type": "code",
   "execution_count": null,
   "metadata": {
    "scrolled": false
   },
   "outputs": [],
   "source": [
    "# Run simulations\n",
    "run = uno.tournament(iterations = 1000,\n",
    "                     agent1 = strat_opt_rand,\n",
    "                     agent2 = q_v_strat, \n",
    "                     comment = False)\n",
    "\n",
    "winners = run[0]"
   ]
  },
  {
   "cell_type": "markdown",
   "metadata": {},
   "source": [
    "#### Win Rate"
   ]
  },
  {
   "cell_type": "code",
   "execution_count": null,
   "metadata": {},
   "outputs": [],
   "source": [
    "q_winrate = winners.count(\"q_v_strat\")/len(winners)\n",
    "s_winrate = winners.count(\"strategic-opt\")\n",
    "\n",
    "print(f\"q-learning win rate: {q_winrate}\")\n",
    "print(f\"strategic win rate: {s_winrate}\")"
   ]
  },
  {
   "cell_type": "code",
   "execution_count": null,
   "metadata": {},
   "outputs": [],
   "source": [
    "result = pd.concat([pd.Series(winners), pd.Series(turns)], axis = 1)\n",
    "result = result.rename(columns={0:\"Winner\",1:\"Turns\"})\n",
    "\n",
    "result[\"Win_rate\"] = result[\"Winner\"].apply(lambda x: 1 if x == \"q_v_strat\" else 0)\n",
    "result[\"Win_rate\"] = result[\"Win_rate\"].cumsum()/(result.index+1)\n",
    "\n",
    "result.tail()"
   ]
  },
  {
   "cell_type": "code",
   "execution_count": null,
   "metadata": {},
   "outputs": [],
   "source": [
    "result1 = pd.concat([pd.Series(winners), pd.Series(turns)], axis = 1)\n",
    "result1 = result1.rename(columns={0:\"Winner\",1:\"Turns\"})\n",
    "\n",
    "result1[\"Win_rate\"] = result1[\"Winner\"].apply(lambda x: 1 if x == \"strategic-opt\" else 0)\n",
    "result1[\"Win_rate\"] = result1[\"Win_rate\"].cumsum()/(result1.index+1)\n",
    "\n",
    "result1.tail()"
   ]
  },
  {
   "cell_type": "code",
   "execution_count": null,
   "metadata": {},
   "outputs": [],
   "source": [
    "result[\"Winner\"][-10000:].value_counts()\n",
    "result1[\"Winner\"][-10000:].value_counts()"
   ]
  },
  {
   "cell_type": "markdown",
   "metadata": {},
   "source": [
    "#### Cumulative Win-Rate per Turn"
   ]
  },
  {
   "cell_type": "code",
   "execution_count": null,
   "metadata": {
    "scrolled": true
   },
   "outputs": [],
   "source": [
    "fig = plt.figure(1, figsize=(15,7))\n",
    "\n",
    "plt.plot(result.index, result[\"Win_rate\"])\n",
    "plt.hlines(0.5, 0, len(winners), colors=\"grey\", linestyles=\"dashed\")\n",
    "\n",
    "# Formatting\n",
    "plt.title(\"Win-Rate with Starting Advantage\")\n",
    "plt.xlabel(\"Simulations\")\n",
    "plt.ylabel(\"Win Rate\")\n",
    "plt.ylim((0.45,0.55))\n",
    "\n",
    "plt.show()"
   ]
  },
  {
   "cell_type": "code",
   "execution_count": null,
   "metadata": {
    "scrolled": true
   },
   "outputs": [],
   "source": [
    "fig = plt.figure(1, figsize=(15,7))\n",
    "\n",
    "plt.plot(result1.index, result1[\"Win_rate\"])\n",
    "plt.hlines(0.5, 0, len(winners), colors=\"grey\", linestyles=\"dashed\")\n",
    "\n",
    "# Formatting\n",
    "plt.title(\"Win-Rate with Starting Advantage\")\n",
    "plt.xlabel(\"Simulations\")\n",
    "plt.ylabel(\"Win Rate\")\n",
    "plt.ylim((0.45,0.55))\n",
    "\n",
    "plt.show()"
   ]
  },
  {
   "cell_type": "markdown",
   "metadata": {},
   "source": [
    "## Performance of the Optimized Strategy Agent Trained Against a Q-Learning Agent\n",
    "***"
   ]
  },
  {
   "cell_type": "markdown",
   "metadata": {},
   "source": [
    "### Performance When Played Against Random Strategy\n",
    "***"
   ]
  },
  {
   "cell_type": "code",
   "execution_count": null,
   "metadata": {
    "scrolled": false
   },
   "outputs": [],
   "source": [
    "# Load optimized strategic agent\n",
    "agent_info = {\n",
    "    \"model\": \"../assets/models/strat_opt_q/model\",\n",
    "    \"parameters\": None\n",
    "}\n",
    "\n",
    "strat_opt_q = sagent.StrategicAgent(agent_info)\n",
    "\n",
    "# Run simulations\n",
    "run = uno.tournament(iterations = 1000,\n",
    "                     agent1 = strat_opt_q,\n",
    "                     agent2 = None, #random strategy agent\n",
    "                     comment = False)\n",
    "\n",
    "\n",
    "winners, turns = run"
   ]
  },
  {
   "cell_type": "markdown",
   "metadata": {},
   "source": [
    "#### Win Rate"
   ]
  },
  {
   "cell_type": "code",
   "execution_count": null,
   "metadata": {},
   "outputs": [],
   "source": [
    "winners.count(\"strategic\")/len(winners)"
   ]
  },
  {
   "cell_type": "code",
   "execution_count": null,
   "metadata": {},
   "outputs": [],
   "source": [
    "result = pd.concat([pd.Series(winners), pd.Series(turns)], axis = 1)\n",
    "result = result.rename(columns={0:\"Winner\",1:\"Turns\"})\n",
    "\n",
    "result[\"Win_rate\"] = result[\"Winner\"].apply(lambda x: 1 if x == \"strategic\" else 0)\n",
    "result[\"Win_rate\"] = result[\"Win_rate\"].cumsum()/(result.index+1)\n",
    "\n",
    "result.tail()"
   ]
  },
  {
   "cell_type": "code",
   "execution_count": null,
   "metadata": {},
   "outputs": [],
   "source": [
    "result[\"Winner\"][-10000:].value_counts()"
   ]
  },
  {
   "cell_type": "markdown",
   "metadata": {},
   "source": [
    "#### Cumulative Win-Rate per Turn"
   ]
  },
  {
   "cell_type": "code",
   "execution_count": null,
   "metadata": {
    "scrolled": true
   },
   "outputs": [],
   "source": [
    "fig = plt.figure(1, figsize=(15,7))\n",
    "\n",
    "plt.plot(result.index, result[\"Win_rate\"])\n",
    "plt.hlines(0.5, 0, len(winners), colors=\"grey\", linestyles=\"dashed\")\n",
    "\n",
    "# Formatting\n",
    "plt.title(\"Win-Rate with Starting Advantage\")\n",
    "plt.xlabel(\"Simulations\")\n",
    "plt.ylabel(\"Win Rate\")\n",
    "plt.ylim((0.45,0.55))\n",
    "\n",
    "plt.show()"
   ]
  },
  {
   "cell_type": "markdown",
   "metadata": {},
   "source": [
    "### Performance When Played Against Unoptimized Strategic Agent\n",
    "***"
   ]
  },
  {
   "cell_type": "code",
   "execution_count": null,
   "metadata": {
    "scrolled": false
   },
   "outputs": [],
   "source": [
    "strat_opt_q.name = \"strategic-opt-q\"\n",
    "\n",
    "# Run simulations\n",
    "run = uno.tournament(iterations = 1000,\n",
    "                     agent1 = strat_unopt,\n",
    "                     agent2 = strat_opt_q, \n",
    "                     comment = False)\n",
    "\n",
    "winners, turns = run"
   ]
  },
  {
   "cell_type": "markdown",
   "metadata": {},
   "source": [
    "#### Win Rate"
   ]
  },
  {
   "cell_type": "code",
   "execution_count": null,
   "metadata": {},
   "outputs": [],
   "source": [
    "q_winrate = winners.count(\"strategic\")/len(winners)\n",
    "s_winrate = winners.count(\"strategic-opt-q\")\n",
    "\n",
    "print(f\"unoptimized strategic win rate: {q_winrate}\")\n",
    "print(f\"optimized strategic win rate: {s_winrate}\")"
   ]
  },
  {
   "cell_type": "code",
   "execution_count": null,
   "metadata": {},
   "outputs": [],
   "source": [
    "result = pd.concat([pd.Series(winners), pd.Series(turns)], axis = 1)\n",
    "result = result.rename(columns={0:\"Winner\",1:\"Turns\"})\n",
    "\n",
    "result[\"Win_rate\"] = result[\"Winner\"].apply(lambda x: 1 if x == \"strategic\" else 0)\n",
    "result[\"Win_rate\"] = result[\"Win_rate\"].cumsum()/(result.index+1)\n",
    "\n",
    "result.tail()"
   ]
  },
  {
   "cell_type": "code",
   "execution_count": null,
   "metadata": {},
   "outputs": [],
   "source": [
    "result1 = pd.concat([pd.Series(winners), pd.Series(turns)], axis = 1)\n",
    "result1 = result1.rename(columns={0:\"Winner\",1:\"Turns\"})\n",
    "\n",
    "result1[\"Win_rate\"] = result1[\"Winner\"].apply(lambda x: 1 if x == \"strategic-opt-q\" else 0)\n",
    "result1[\"Win_rate\"] = result1[\"Win_rate\"].cumsum()/(result1.index+1)\n",
    "\n",
    "result1.tail()"
   ]
  },
  {
   "cell_type": "code",
   "execution_count": null,
   "metadata": {},
   "outputs": [],
   "source": [
    "result[\"Winner\"][-10000:].value_counts()\n",
    "result1[\"Winner\"][-10000:].value_counts()"
   ]
  },
  {
   "cell_type": "markdown",
   "metadata": {},
   "source": [
    "#### Cumulative Win-Rate per Turn"
   ]
  },
  {
   "cell_type": "code",
   "execution_count": null,
   "metadata": {
    "scrolled": true
   },
   "outputs": [],
   "source": [
    "fig = plt.figure(1, figsize=(15,7))\n",
    "\n",
    "plt.plot(result.index, result[\"Win_rate\"])\n",
    "plt.hlines(0.5, 0, len(winners), colors=\"grey\", linestyles=\"dashed\")\n",
    "\n",
    "# Formatting\n",
    "plt.title(\"Win-Rate with Starting Advantage\")\n",
    "plt.xlabel(\"Simulations\")\n",
    "plt.ylabel(\"Win Rate\")\n",
    "plt.ylim((0.45,0.55))\n",
    "\n",
    "plt.show()"
   ]
  },
  {
   "cell_type": "code",
   "execution_count": null,
   "metadata": {
    "scrolled": true
   },
   "outputs": [],
   "source": [
    "fig = plt.figure(1, figsize=(15,7))\n",
    "\n",
    "plt.plot(result1.index, result1[\"Win_rate\"])\n",
    "plt.hlines(0.5, 0, len(winners), colors=\"grey\", linestyles=\"dashed\")\n",
    "\n",
    "# Formatting\n",
    "plt.title(\"Win-Rate with Starting Advantage\")\n",
    "plt.xlabel(\"Simulations\")\n",
    "plt.ylabel(\"Win Rate\")\n",
    "plt.ylim((0.45,0.55))\n",
    "\n",
    "plt.show()"
   ]
  },
  {
   "cell_type": "markdown",
   "metadata": {},
   "source": [
    "### Performance When Played Against Strategic Agent Optimized Against Random Strategy\n",
    "***"
   ]
  },
  {
   "cell_type": "code",
   "execution_count": null,
   "metadata": {
    "scrolled": false
   },
   "outputs": [],
   "source": [
    "# Run simulations\n",
    "run = uno.tournament(iterations = 1000,\n",
    "                     agent1 = strat_opt_rand,\n",
    "                     agent2 = strat_opt_q, \n",
    "                     comment = False)\n",
    "\n",
    "winners, turns = run"
   ]
  },
  {
   "cell_type": "markdown",
   "metadata": {},
   "source": [
    "#### Win Rate"
   ]
  },
  {
   "cell_type": "code",
   "execution_count": null,
   "metadata": {},
   "outputs": [],
   "source": [
    "q_winrate = winners.count(\"strategic-opt\")/len(winners)\n",
    "s_winrate = winners.count(\"strategic-opt-q\")\n",
    "\n",
    "print(f\"optimized strategic win rate: {q_winrate}\")\n",
    "print(f\"optimized-q strategic win rate: {s_winrate}\")"
   ]
  },
  {
   "cell_type": "code",
   "execution_count": null,
   "metadata": {},
   "outputs": [],
   "source": [
    "result = pd.concat([pd.Series(winners), pd.Series(turns)], axis = 1)\n",
    "result = result.rename(columns={0:\"Winner\",1:\"Turns\"})\n",
    "\n",
    "result[\"Win_rate\"] = result[\"Winner\"].apply(lambda x: 1 if x == \"strategic-opt\" else 0)\n",
    "result[\"Win_rate\"] = result[\"Win_rate\"].cumsum()/(result.index+1)\n",
    "\n",
    "result.tail()"
   ]
  },
  {
   "cell_type": "code",
   "execution_count": null,
   "metadata": {},
   "outputs": [],
   "source": [
    "result1 = pd.concat([pd.Series(winners), pd.Series(turns)], axis = 1)\n",
    "result1 = result1.rename(columns={0:\"Winner\",1:\"Turns\"})\n",
    "\n",
    "result1[\"Win_rate\"] = result1[\"Winner\"].apply(lambda x: 1 if x == \"strategic-opt-q\" else 0)\n",
    "result1[\"Win_rate\"] = result1[\"Win_rate\"].cumsum()/(result1.index+1)\n",
    "\n",
    "result1.tail()"
   ]
  },
  {
   "cell_type": "code",
   "execution_count": null,
   "metadata": {},
   "outputs": [],
   "source": [
    "result[\"Winner\"][-10000:].value_counts()\n",
    "result1[\"Winner\"][-10000:].value_counts()"
   ]
  },
  {
   "cell_type": "markdown",
   "metadata": {},
   "source": [
    "#### Cumulative Win-Rate per Turn"
   ]
  },
  {
   "cell_type": "code",
   "execution_count": null,
   "metadata": {
    "scrolled": true
   },
   "outputs": [],
   "source": [
    "fig = plt.figure(1, figsize=(15,7))\n",
    "\n",
    "plt.plot(result.index, result[\"Win_rate\"])\n",
    "plt.hlines(0.5, 0, len(winners), colors=\"grey\", linestyles=\"dashed\")\n",
    "\n",
    "# Formatting\n",
    "plt.title(\"Win-Rate with Starting Advantage\")\n",
    "plt.xlabel(\"Simulations\")\n",
    "plt.ylabel(\"Win Rate\")\n",
    "plt.ylim((0.45,0.55))\n",
    "\n",
    "plt.show()"
   ]
  },
  {
   "cell_type": "code",
   "execution_count": null,
   "metadata": {
    "scrolled": true
   },
   "outputs": [],
   "source": [
    "fig = plt.figure(1, figsize=(15,7))\n",
    "\n",
    "plt.plot(result1.index, result1[\"Win_rate\"])\n",
    "plt.hlines(0.5, 0, len(winners), colors=\"grey\", linestyles=\"dashed\")\n",
    "\n",
    "# Formatting\n",
    "plt.title(\"Win-Rate with Starting Advantage\")\n",
    "plt.xlabel(\"Simulations\")\n",
    "plt.ylabel(\"Win Rate\")\n",
    "plt.ylim((0.45,0.55))\n",
    "\n",
    "plt.show()"
   ]
  },
  {
   "cell_type": "markdown",
   "metadata": {},
   "source": [
    "### Performance When Played Against a Q-Learning Agent\n",
    "***"
   ]
  },
  {
   "cell_type": "code",
   "execution_count": null,
   "metadata": {
    "scrolled": false
   },
   "outputs": [],
   "source": [
    "# Run simulations\n",
    "run = uno.tournament(iterations = 1000,\n",
    "                     agent1 = strat_opt_q,\n",
    "                     agent2 = q_v_strat, \n",
    "                     comment = False)\n",
    "\n",
    "winners = run[0]"
   ]
  },
  {
   "cell_type": "markdown",
   "metadata": {},
   "source": [
    "#### Win Rate"
   ]
  },
  {
   "cell_type": "code",
   "execution_count": null,
   "metadata": {},
   "outputs": [],
   "source": [
    "q_winrate = winners.count(\"q_v_strat\")/len(winners)\n",
    "s_winrate = winners.count(\"strategic-opt-q\")\n",
    "\n",
    "print(f\"q-learning win rate: {q_winrate}\")\n",
    "print(f\"strategic win rate: {s_winrate}\")"
   ]
  },
  {
   "cell_type": "code",
   "execution_count": null,
   "metadata": {},
   "outputs": [],
   "source": [
    "result = pd.concat([pd.Series(winners), pd.Series(turns)], axis = 1)\n",
    "result = result.rename(columns={0:\"Winner\",1:\"Turns\"})\n",
    "\n",
    "result[\"Win_rate\"] = result[\"Winner\"].apply(lambda x: 1 if x == \"q_v_strat\" else 0)\n",
    "result[\"Win_rate\"] = result[\"Win_rate\"].cumsum()/(result.index+1)\n",
    "\n",
    "result.tail()"
   ]
  },
  {
   "cell_type": "code",
   "execution_count": null,
   "metadata": {},
   "outputs": [],
   "source": [
    "result1 = pd.concat([pd.Series(winners), pd.Series(turns)], axis = 1)\n",
    "result1 = result1.rename(columns={0:\"Winner\",1:\"Turns\"})\n",
    "\n",
    "result1[\"Win_rate\"] = result1[\"Winner\"].apply(lambda x: 1 if x == \"strategic-opt-q\" else 0)\n",
    "result1[\"Win_rate\"] = result1[\"Win_rate\"].cumsum()/(result1.index+1)\n",
    "\n",
    "result1.tail()"
   ]
  },
  {
   "cell_type": "code",
   "execution_count": null,
   "metadata": {},
   "outputs": [],
   "source": [
    "result[\"Winner\"][-10000:].value_counts()\n",
    "result1[\"Winner\"][-10000:].value_counts()"
   ]
  },
  {
   "cell_type": "markdown",
   "metadata": {},
   "source": [
    "#### Cumulative Win-Rate per Turn"
   ]
  },
  {
   "cell_type": "code",
   "execution_count": null,
   "metadata": {
    "scrolled": true
   },
   "outputs": [],
   "source": [
    "fig = plt.figure(1, figsize=(15,7))\n",
    "\n",
    "plt.plot(result.index, result[\"Win_rate\"])\n",
    "plt.hlines(0.5, 0, len(winners), colors=\"grey\", linestyles=\"dashed\")\n",
    "\n",
    "# Formatting\n",
    "plt.title(\"Win-Rate with Starting Advantage\")\n",
    "plt.xlabel(\"Simulations\")\n",
    "plt.ylabel(\"Win Rate\")\n",
    "plt.ylim((0.45,0.55))\n",
    "\n",
    "plt.show()"
   ]
  },
  {
   "cell_type": "code",
   "execution_count": null,
   "metadata": {
    "scrolled": true
   },
   "outputs": [],
   "source": [
    "fig = plt.figure(1, figsize=(15,7))\n",
    "\n",
    "plt.plot(result1.index, result1[\"Win_rate\"])\n",
    "plt.hlines(0.5, 0, len(winners), colors=\"grey\", linestyles=\"dashed\")\n",
    "\n",
    "# Formatting\n",
    "plt.title(\"Win-Rate with Starting Advantage\")\n",
    "plt.xlabel(\"Simulations\")\n",
    "plt.ylabel(\"Win Rate\")\n",
    "plt.ylim((0.45,0.55))\n",
    "\n",
    "plt.show()"
   ]
  }
 ],
 "metadata": {
  "kernelspec": {
   "display_name": "Python 3 (ipykernel)",
   "language": "python",
   "name": "python3"
  },
  "language_info": {
   "codemirror_mode": {
    "name": "ipython",
    "version": 3
   },
   "file_extension": ".py",
   "mimetype": "text/x-python",
   "name": "python",
   "nbconvert_exporter": "python",
   "pygments_lexer": "ipython3",
   "version": "3.9.7"
  },
  "toc": {
   "base_numbering": 1,
   "nav_menu": {},
   "number_sections": true,
   "sideBar": false,
   "skip_h1_title": true,
   "title_cell": "Table of Contents",
   "title_sidebar": "Contents",
   "toc_cell": true,
   "toc_position": {},
   "toc_section_display": true,
   "toc_window_display": false
  }
 },
 "nbformat": 4,
 "nbformat_minor": 4
}
